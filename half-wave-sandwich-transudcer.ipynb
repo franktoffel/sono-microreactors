{
 "cells": [
  {
   "cell_type": "markdown",
   "metadata": {},
   "source": [
    "#  Interactive design of a half wave transducer \n",
    "    \n",
    "    \n",
    "Author: Francisco José Navarro-Brull\n",
    "\n",
    "Orginal peer review paper: [Guidelines for the design of efficient sono-microreactors](http://www.degruyter.com/view/j/gps.2014.3.issue-5/gps-2014-0052/gps-2014-0052.xml)"
   ]
  },
  {
   "cell_type": "markdown",
   "metadata": {},
   "source": [
    "<p style=\"text-align:center\">\n",
    "\n",
    "<img src=\"./animations/interactive-sandwich-transducer.gif\" alt=\"Interactive Langevin\">\n",
    "\n",
    "</p>\n"
   ]
  },
  {
   "cell_type": "markdown",
   "metadata": {},
   "source": [
    "# Langevin's transducer"
   ]
  },
  {
   "cell_type": "markdown",
   "metadata": {},
   "source": [
    "Prestressed sandwich transducers, or Langevin's transducers, are frequently applied in the high-power-ultrasound manufacturing industry as narrow-band piezoelectric transducers. Their basic structure consists of one or more pairs of piezoceramic rings, enclosed by metal endings and mechanically compressed by a central bolt. This half-wave resonant structure vibrates in its longitudinal or axial direction. A representation of  the most common Langevin's kind of transducer ---often called symmetrical transducer--- is shown in here:"
   ]
  },
  {
   "cell_type": "markdown",
   "metadata": {},
   "source": [
    "<p style=\"text-align:center\">\n",
    "\n",
    "<img src=\"https://raw.githubusercontent.com/franktoffel/sono-microreactors/master/images/langevin.png\" alt=\"Symmetrical transducer\">\n",
    "\n",
    "Half-wave transducer with same material endings and cross-section areas showing its displacement amplitude ($u$) and mechanical stress ($T$) curves\n",
    "</p>\n",
    "\n"
   ]
  },
  {
   "cell_type": "markdown",
   "metadata": {},
   "source": [
    "Every Langevin's transducer can be divided into its three inherent parts, namely:\n",
    "* the reflector, representing the back side of the transducer and looking for the maximum reflection of the acoustic wave;\n",
    "* the actuator, usually made of a lead-zirconomim-titanate ceramic (PZT);\n",
    "* the emitter, transfering oscillations to the operating medium."
   ]
  },
  {
   "cell_type": "markdown",
   "metadata": {},
   "source": [
    "The reflector and emitter are represented with the letters $r$ and $e$, respectively. \n",
    "\t\n",
    "Sandwich transducer design and optimization  do necessarily involve different materials and knowledge of mechanics, acoustics and electronics."
   ]
  },
  {
   "cell_type": "markdown",
   "metadata": {},
   "source": [
    "# Langevin's equation"
   ]
  },
  {
   "cell_type": "markdown",
   "metadata": {},
   "source": [
    "Although several one-dimensional approaches can be found in the literature, Langevin's equation constitutes the most frequently applied equation for the design of sandwich transducers. Langevin's equation is widely used due to its simplicity and flexibility. However, it should be only applied provided that the transducer has the same cross-sections at both ends (usually called symmetric transducers). In any case, what all these one-dimensional models have in common is that they enable the possibility of determining the transducer dimensions for a specific resonant frequency by using an equivalent circuit analogy.\n",
    "In fact, a mechanical system can be described by its electrical analog, and vice-versa. KLM and Mason's models are used to design the transducer by simplifying the wave equation solution in the model. This is possible thanks to an equivalent electrical network representation used for calculating electromechanical parameters.\t\n",
    "\n",
    "Thus, a Langevin-type transducer can be modeled under the following assumptions:\n",
    "* There are solely plane-wave propagations along the longitudinal section of the reactor, where the tension in the interior of the pieces is evenly distributed throughout its cross section.\n",
    "* The forces exerted by the back and front ends on the air are considered as negligible and the equivalent circuit is simplified to a single impedance. \n",
    "\n",
    "When the system vibrates at the resonance frequency, the impedance of such an equivalent circuit becomes zero, leading to  the next equation for a half-wave  resonant structure of a Langevin-type ultrasonic transducer:\n",
    "\n",
    "$$\n",
    "  2  k_pl_p\n",
    "  + \\tan^{-1}{\\left( \\frac{Z_r^c}{Z_p^c} \\tan{k_r l_r}\\right) }\n",
    "  + \\tan^{-1}{\\left( \\frac{Z_e^c}{Z_p^c} \\tan{k_f l_e}\\right) }\n",
    "  = \\pi\n",
    "$$\n",
    "\n",
    "where $k$ denotes the angular wavenumber (${2 \\pi}/{\\lambda}$, with $\\lambda$ being the wavelength) and $Z$ the acoustic impedance ($\\rho c$, with ${\\rho}$ being the material density and $c$ the sound velocity) of each section.\n",
    "\n",
    "The first term of equation from above corresponds to the piezoelectric crystal, and the second and third terms to the back and front side, respectively. Consequently, $l_p$ is the thickness of the piezoelectric material, while $l_r$ is the thickness of the Teflon layer behind the piezo (reflector) and $l_e$ is that of the layer before it (emitter).\n",
    "It is necessary to define the size of the piezoelectric ceramic because it should be located at a vibration node allowing the division of the transducer  into two sections ---where each one will develop a quarter of the wavelength of the resonator ---. In this way, this equation can be splitted into: \n",
    "\n",
    "$$\n",
    "  k_pl_p\n",
    "  + \\tan^{-1}{\\left( \\frac{Z_r^c}{Z_p^c} \\tan{k_r l_r}\\right) }\n",
    "  = \\frac{\\pi}{2}   \\\\\n",
    "$$\n",
    "\n",
    "$$\n",
    "  k_pl_p\n",
    "  + \\tan^{-1}{\\left( \\frac{Z_e^c}{Z_p^c} \\tan{k_f l_e}\\right) }\n",
    "  = \\frac{\\pi}{2}\n",
    "$$\n",
    "\n",
    "Finally, it must be underlined that the two stainless steel chucks closing the microreactor have not been considered in this sizing. The transducer is modeled to have a maximum output at the back side where, due to the impedance differences between Teflon and stainless steel, the transmission of the vibration will be insignificant ($\\sim$97\\% of reflection). In contrast, on the front side the width of Teflon is designed to have an antinode at the microchannel. The interface between Teflon and stainless steel on the front side will be located at a node, where the vibration is zero and therefore not interfering with the signal. \n",
    "\n",
    "What we are going to do is to program in [Python](https://www.python.org/) the solution of these equations and show with [matplotlib](http://matplotlib.org/) and [IPython](http://ipython.org/) the sizing results from the Langevin model applied to the following device:"
   ]
  },
  {
   "cell_type": "markdown",
   "metadata": {},
   "source": [
    "<p style=\"text-align:center\">\n",
    "\n",
    "<img src=\"./images/ultrasonic-transducer.jpg\" alt=\"Langevin transducers\">\n",
    "\n",
    "Two Langevin or half wave transducers manufactored by [APC](https://www.americanpiezo.com/): left 40 kHz, right 28 kHz\n",
    "</p>"
   ]
  },
  {
   "cell_type": "code",
   "execution_count": 36,
   "metadata": {
    "collapsed": false
   },
   "outputs": [],
   "source": [
    "# importing the IPython widgets\n",
    "from ipywidgets import interact\n",
    "\n",
    "# importing matplotlib and NumPy libraries\n",
    "import matplotlib.pyplot as plt\n",
    "import matplotlib.patches as mpatches\n",
    "from matplotlib.path import Path\n",
    "import numpy as np\n",
    "from __future__ import division"
   ]
  },
  {
   "cell_type": "code",
   "execution_count": 37,
   "metadata": {
    "collapsed": false
   },
   "outputs": [],
   "source": [
    "%matplotlib inline"
   ]
  },
  {
   "cell_type": "code",
   "execution_count": 42,
   "metadata": {
    "collapsed": false
   },
   "outputs": [],
   "source": [
    "def plot_response(freq=28, emitter_diameter=45):\n",
    "    \"\"\"\n",
    "    Make a \"sandwich\" horizontal plot for the Langevin's equation solution\n",
    "    \n",
    "    Input:\n",
    "     - freq --> frequency of design in [kHz]\n",
    "     - front_diameter --> diameter of emitter [mm]\n",
    "    \"\"\"\n",
    "    \n",
    "    # Input \n",
    "    frequency = freq*1e3 # [Hz]\n",
    "    d_front  =  emitter_diameter *1e-3 # [m] diameter of the actuator (front)\n",
    "    \n",
    "    # Rest of parameters    \n",
    "    rho_PZT = 7750 # [kg/m^3]\n",
    "    rho_front = 2700 # aluminum [kg/m^3]\n",
    "    rho_back = 7980 # stain. steel [kg/m^3]\n",
    "    \n",
    "    d_back = 35 *1e-3 # [m] diameter of the SSteel (back)\n",
    "    d_PZT   = 35 *1e-3 # [m] diameter of PZT the (actuator)  \n",
    "    \n",
    "    area_PZT = np.pi * (d_PZT/2)**2 # [m^2] (cylindrical geometry)\n",
    "    area_front = np.pi * (d_front/2)**2 # [m^2] (cylindrical geometry)\n",
    "    area_back = np.pi * (d_back/2)**2 # [m^2] (cylindrical geometry)\n",
    "\n",
    "    v_sound_PZT = 4000 # [m/s]\n",
    "    v_sound_front = 6420 # [m/s]\n",
    "    v_sound_back = 5790 # [m/s]\n",
    "    \n",
    "    # Calculations\n",
    "    \n",
    "    k_PZT = 2*np.pi*frequency / v_sound_PZT\n",
    "    k_aluminum = 2*np.pi*frequency / v_sound_front\n",
    "    k_steel = 2*np.pi*frequency / v_sound_back\n",
    "\n",
    "    Z_PZT = v_sound_PZT*area_PZT*rho_PZT\n",
    "    Z_aluminum = v_sound_front*area_front*rho_front\n",
    "    Z_steel = v_sound_back*area_back*rho_back\n",
    "    \n",
    "    l_PZT = 5e-3 # length of a PZT disk [m]\n",
    "    \n",
    "    l_back = np.abs( np.arctan( np.tan( np.pi/2 - k_PZT*(l_PZT) \n",
    "                       * Z_PZT/Z_steel)) * 1/k_steel) #[m]\n",
    "    l_front = np.arctan( np.tan(np.pi/2) * Z_PZT/Z_aluminum - k_PZT*(l_PZT)) * 1/k_aluminum\n",
    "               \n",
    "    # Plotting results (end of calculations)\n",
    "    # (documentation: http://matthiaseisen.com/pp/patterns/p0203/)\n",
    "    \n",
    "    fig, ax = plt.subplots(figsize=(10,8))\n",
    "    \n",
    "    plt.title(\"Langevin's transducer - \"+\"$f:$\"+str(frequency/1e3)+\"kHz\")\n",
    "    \n",
    "    \n",
    "    # Back\n",
    "                                       \n",
    "    ax.add_patch(\n",
    "        mpatches.Rectangle(\n",
    "            (-l_back-l_PZT, -d_back/2),   # (x,y)\n",
    "            l_back,          # width\n",
    "            d_back,          # height\n",
    "            facecolor='white'\n",
    "        )\n",
    "    )    \n",
    "\n",
    "    \n",
    "    #PZT actuaor (back node)                          \n",
    "    ax.add_patch(\n",
    "        mpatches.Rectangle(\n",
    "            (-l_PZT, -d_PZT/2),   # (x,y)\n",
    "            l_PZT,          # width\n",
    "            d_PZT,          # height\n",
    "            facecolor='orange'\n",
    "        )\n",
    "    )\n",
    "\n",
    "    #PZT actuaor (front node)                          \n",
    "    ax.add_patch(\n",
    "        mpatches.Rectangle(\n",
    "            (0, -d_PZT/2),   # (x,y)\n",
    "            l_PZT,          # width\n",
    "            d_PZT,          # height\n",
    "            facecolor='orange'\n",
    "        )\n",
    "    )  \n",
    "\n",
    "    # Front                        \n",
    "    \n",
    "    verts_front = [\n",
    "    (l_PZT, -d_PZT/2),       # (x,y)\n",
    "    (l_PZT, d_PZT/2),        # (x,y)\n",
    "    (l_PZT+l_front, d_front/2),   # (x,y)\n",
    "    (l_PZT+l_front, -d_front/2),   # (x,y)\n",
    "    (0., 0.), # ignored\n",
    "    ]\n",
    "\n",
    "    codes_front = [Path.MOVETO,\n",
    "         Path.LINETO,\n",
    "         Path.LINETO,\n",
    "         Path.LINETO,\n",
    "         Path.CLOSEPOLY,\n",
    "         ]\n",
    "\n",
    "    path_front = Path(verts_front, codes_front)\n",
    "\n",
    "    ax.add_patch(mpatches.PathPatch(path_front, facecolor='grey'))\n",
    "                    \n",
    "   \n",
    "    #l2 = plt.legend()\n",
    "    \n",
    "    k_graph_aluminum = 2*np.pi*frequency/v_sound_front\n",
    "    k_graph_PZT = 2*np.pi*frequency/v_sound_PZT\n",
    "    \n",
    "    x_back = np.linspace(-l_back-l_PZT, 0)\n",
    "    wave_lenght_back = (l_back+l_PZT)*4\n",
    "    y_back = (area_PZT/area_back)*1e-2 * np.sin((2*np.pi)/wave_lenght_back*(x_back))\n",
    "    \n",
    "    x_front = np.linspace(0,l_PZT+l_front)\n",
    "    y_front_prev = 1e-2 * np.sin(k_graph_aluminum*(x_front))\n",
    "    y_front_area_effect = np.linspace((area_PZT/area_back),(area_PZT/area_front))\n",
    "    y_front = y_front_prev*y_front_area_effect\n",
    "    \n",
    "\n",
    "    ax.plot(x_back,y_back,'-k',linewidth=3, label=\"Displacement: $u$\")\n",
    "    ax.plot(x_front,y_front,'-k',linewidth=3)\n",
    "\n",
    "    ax.plot(x_back,-y_back,'--k',linewidth=3, label=\"(Standing wave)\")\n",
    "    ax.plot(x_front,-y_front,'--k',linewidth=3)\n",
    "    ax.legend()\n",
    "    \n",
    "    ax.set_xlabel('x / m')\n",
    "    ax.set_ylabel('axis of symmetry')\n",
    "    ax.set_yticks([0])\n",
    "    ax.set_yticklabels([0])\n",
    "    ax.set_xlim([-0.08, 0.08])\n",
    "    ax.set_ylim([-0.05, 0.05])\n",
    "    ax.grid(True)\n",
    "    \n",
    "    \n",
    "    bars_aluminum = plt.Rectangle((0, 0), 1, 1, fc=\"grey\")\n",
    "    bars_PZT = plt.Rectangle((0, 0), 1, 1, fc=\"orange\")\n",
    "    bars_water = plt.Rectangle((0, 0), 1, 1, fc=\"blue\")\n",
    "    bars_ss = plt.Rectangle((0, 0), 1, 1, fc=\"white\")"
   ]
  },
  {
   "cell_type": "code",
   "execution_count": 43,
   "metadata": {
    "collapsed": false
   },
   "outputs": [
    {
     "data": {
      "image/png": "[encoded data removed]",
      "text/plain": [
       "<matplotlib.figure.Figure at 0x7ce65c0>"
      ]
     },
     "metadata": {},
     "output_type": "display_data"
    }
   ],
   "source": [
    "# Call the interactive slider\n",
    "# working frequency between 28 and 40 kHz\n",
    "interact(plot_response, freq=(28,40), emitter_diameter=(20,60))"
   ]
  }
 ],
 "metadata": {
  "kernelspec": {
   "display_name": "Python 3",
   "language": "python",
   "name": "python3"
  },
  "language_info": {
   "codemirror_mode": {
    "name": "ipython",
    "version": 3
   },
   "file_extension": ".py",
   "mimetype": "text/x-python",
   "name": "python",
   "nbconvert_exporter": "python",
   "pygments_lexer": "ipython3",
   "version": "3.4.4"
  }
 },
 "nbformat": 4,
 "nbformat_minor": 0
}
