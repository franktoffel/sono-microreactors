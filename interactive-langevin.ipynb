{
 "cells": [
  {
   "cell_type": "markdown",
   "metadata": {},
   "source": [
    "## Interactive acoustic design of a sandwich type sono-microreactor   \n",
    "\n",
    "This small demonstration shows the intuition behind a proper acoustic design of sono-microreactors.\n",
    "Efficient power ultrasound in microreactors has been addressed within MAPSYN European project.\n",
    "[![img](./images/mapsyn.gif)](http://mapsyn.eu)\n",
    "    \n",
    "    Author: Francisco José Navarro-Brull\n",
    "    Supplementary information: Guidelines for the design of efficient sono-microreactors"
   ]
  },
  {
   "cell_type": "markdown",
   "metadata": {},
   "source": [
    "# Langevin's transducer"
   ]
  },
  {
   "cell_type": "markdown",
   "metadata": {},
   "source": [
    "Prestressed sandwich transducers, or Langevin's transducers, are frequently applied in the high-power-ultrasound manufacturing industry as narrow-band piezoelectric transducers. Their basic structure consists of one or more pairs of piezoceramic rings, enclosed by metal endings and mechanically compressed by a central bolt. This half-wave resonant structure vibrates in its longitudinal or axial direction. A representation of  the most common Langevin's kind of transducer ---often called symmetrical transducer--- is shown in here:"
   ]
  },
  {
   "cell_type": "markdown",
   "metadata": {},
   "source": [
    "<p style=\"text-align:center\">\n",
    "\n",
    "<img src=\"https://raw.githubusercontent.com/franktoffel/sono-microreactors/master/images/langevin.png\" alt=\"Symmetrical transducer\">\n",
    "\n",
    "Half-wave transducer with same material endings and cross-section areas showing its displacement amplitude ($u$) and mechanical stress ($T$) curves\n",
    "</p>\n",
    "\n"
   ]
  },
  {
   "cell_type": "markdown",
   "metadata": {},
   "source": [
    "Every Langevin's transducer can be divided into its three inherent parts, namely:\n",
    "* the reflector, representing the back side of the transducer and looking for the maximum reflection of the acoustic wave;\n",
    "* the actuator, usually made of a lead-zirconomim-titanate ceramic (PZT);\n",
    "* the emitter, transfering oscillations to the operating medium."
   ]
  },
  {
   "cell_type": "markdown",
   "metadata": {},
   "source": [
    "The reflector and emitter are represented with the letters $r$ and $e$, respectively. \n",
    "\t\n",
    "Sandwich transducer design and optimization  do necessarily involve different materials and knowledge of mechanics, acoustics and electronics."
   ]
  },
  {
   "cell_type": "markdown",
   "metadata": {},
   "source": [
    "# Langevin's equation"
   ]
  },
  {
   "cell_type": "markdown",
   "metadata": {},
   "source": [
    "Although several one-dimensional approaches can be found in the literature, Langevin's equation constitutes the most frequently applied equation for the design of sandwich transducers. Langevin's equation is widely used due to its simplicity and flexibility. However, it should be only applied provided that the transducer has the same cross-sections at both ends (usually called symmetric transducers). In any case, what all these one-dimensional models have in common is that they enable the possibility of determining the transducer dimensions for a specific resonant frequency by using an equivalent circuit analogy.\n",
    "In fact, a mechanical system can be described by its electrical analog, and vice-versa. KLM and Mason's models are used to design the transducer by simplifying the wave equation solution in the model. This is possible thanks to an equivalent electrical network representation used for calculating electromechanical parameters.\t\n",
    "\n",
    "Thus, a Langevin-type transducer can be modeled under the following assumptions:\n",
    "* There are solely plane-wave propagations along the longitudinal section of the reactor, where the tension in the interior of the pieces is evenly distributed throughout its cross section.\n",
    "* The forces exerted by the back and front ends on the air are considered as negligible and the equivalent circuit is simplified to a single impedance. \n",
    "\n",
    "When the system vibrates at the resonance frequency, the impedance of such an equivalent circuit becomes zero, leading to  the next equation for a half-wave  resonant structure of a Langevin-type ultrasonic transducer:\n",
    "\n",
    "$$\n",
    "  k_pl_p\n",
    "  + \\tan^{-1}{\\left( \\frac{Z_r^c}{Z_p^c} \\tan{k_r l_r}\\right) }\n",
    "  + \\tan^{-1}{\\left( \\frac{Z_e^c}{Z_p^c} \\tan{k_f l_e}\\right) }\n",
    "  = \\pi\n",
    "$$\n",
    "\n",
    "where $k$ denotes the angular wavenumber (${2 \\pi}/{\\lambda}$, with $\\lambda$ being the wavelength) and $Z$ the acoustic impedance ($\\rho c$, with ${\\rho}$ being the material density and $c$ the sound velocity) of each section.\n",
    "\n",
    "The first term of equation from above corresponds to the piezoelectric crystal, and the second and third terms to the back and front side, respectively. Consequently, $l_p$ is the thickness of the piezoelectric material, while $l_r$ is the thickness of the Teflon layer behind the piezo (reflector) and $l_e$ is that of the layer before it (emitter).\n",
    "It is necessary to define the size of the piezoelectric ceramic because it should be located at a vibration node allowing the division of the transducer  into two sections ---where each one will develop a quarter of the wavelength of the resonator ---. In this way, this equation can be splitted into: \n",
    "\n",
    "$$\n",
    "  k_pl_p\n",
    "  + \\tan^{-1}{\\left( \\frac{Z_r^c}{Z_p^c} \\tan{k_r l_r}\\right) }\n",
    "  = \\frac{\\pi}{2}   \\\\\n",
    "$$\n",
    "\n",
    "$$\n",
    "  \\tan^{-1}{\\left( \\frac{Z_e^c}{Z_p^c} \\tan{k_f l_e}\\right) }\n",
    "  = \\frac{\\pi}{2}\n",
    "$$\n",
    "\n",
    "Finally, it must be underlined that the two stainless steel chucks closing the microreactor have not been considered in this sizing. The transducer is modeled to have a maximum output at the back side where, due to the impedance differences between Teflon and stainless steel, the transmission of the vibration will be insignificant ($\\sim$97\\% of reflection). In contrast, on the front side the width of Teflon is designed to have an antinode at the microchannel. The interface between Teflon and stainless steel on the front side will be located at a node, where the vibration is zero and therefore not interfering with the signal. \n",
    "\n",
    "What we are going to do is to program in [Python](https://www.python.org/) the solution of these equations and show with [matplotlib](http://matplotlib.org/) and [IPython](http://ipython.org/) the sizing results from the Langevin model applied to the following device:"
   ]
  },
  {
   "cell_type": "markdown",
   "metadata": {},
   "source": [
    "<p style=\"text-align:center\">\n",
    "\n",
    "<img src=\"https://raw.githubusercontent.com/franktoffel/sono-microreactors/master/images/exploded-view.png\" alt=\"Symmetrical transducer\">\n",
    "\n",
    "Representation of the assembly constituting the Teflon-stacked microreactor proposed in the literature (Kuhn et al., 2011)\n",
    "</p>"
   ]
  },
  {
   "cell_type": "code",
   "execution_count": 1,
   "metadata": {
    "collapsed": false
   },
   "outputs": [],
   "source": [
    "# importing the IPython widgets\n",
    "from ipywidgets import interact\n",
    "\n",
    "# importing matplotlib and NumPy libraries\n",
    "import matplotlib.pyplot as plt\n",
    "import numpy as np\n",
    "from __future__ import division"
   ]
  },
  {
   "cell_type": "code",
   "execution_count": 2,
   "metadata": {
    "collapsed": false
   },
   "outputs": [],
   "source": [
    "%matplotlib inline"
   ]
  },
  {
   "cell_type": "code",
   "execution_count": 3,
   "metadata": {
    "collapsed": false
   },
   "outputs": [],
   "source": [
    "def plot_response(freq = 50):\n",
    "    \"\"\"\n",
    "    Make a \"sandwich\" horizontal plot for the Langevin's equation solution\n",
    "    \"\"\"\n",
    "    \n",
    "    # Working parameters\n",
    "    frequency = freq*1e3 # [Hz]\n",
    "    \n",
    "    rho_PZT = 7750 # [kg/m^3]\n",
    "    rho_PTFE = 2200 # [kg/m^3]\n",
    "    \n",
    "    w_steel = 75 *1e-3 # [m] width of the SSteel chucks \n",
    "    w_PZT   = 60.5 *1e-3# [m] width of PZT the actuator  \n",
    "    w_PTFE  =  70.5 *1e-3# [m] width of the PTFE \n",
    "    w_microtube = 10 *1e-3# [m] width of the microchannel \n",
    "    \n",
    "    area_PZT = w_PZT**2 # [m^2] (squared geometry)\n",
    "    area_PTFE = w_PTFE**2 # [m^2] (squared geometry)\n",
    "    \n",
    "    elastic_constant_PZT = 1.35e-11 # [Pa^-1] (S^{D}_{33})\n",
    "\n",
    "    young_PZT = 7e10 # [Pa]\n",
    "    young_PTFE = 4e8 # [Pa]\n",
    "    \n",
    "    # Calculations\n",
    "    \n",
    "    v_sound_PZT = 1 / (rho_PZT*elastic_constant_PZT)**0.5 # [m/s]\n",
    "    \n",
    "    v_sound_PTFE = (young_PTFE/rho_PTFE)**0.5 # [m/s]\n",
    "    \n",
    "    k_PZT = 2*np.pi*frequency / v_sound_PZT\n",
    "    k_PTFE = 2*np.pi*frequency / v_sound_PTFE\n",
    "    \n",
    "    Z_PZT = v_sound_PZT*area_PZT*rho_PZT\n",
    "    Z_PTFE = v_sound_PTFE*area_PTFE*rho_PTFE\n",
    "    \n",
    "    l_PZT = 1.02e-3 # length of the PZT [m]\n",
    "    \n",
    "    l_back = np.abs( np.arctan( np.tan( np.pi/2 - k_PZT*l_PZT) \n",
    "                       * Z_PZT/Z_PTFE) * 1/k_PTFE) #[m]\n",
    "    l_front = np.arctan( np.tan(np.pi/2) * Z_PZT/Z_PTFE) * 1/k_PTFE\n",
    "    \n",
    "    \n",
    "    l_steel = 6e-3 # length given for the SSteel chucks [mm]\n",
    "    \n",
    "    \n",
    "    # Plotting results (end of calculations)\n",
    "    \n",
    "    fig, ax = plt.subplots()\n",
    "    \n",
    "    plt.title(\"Langevin's equation results - \"+\"$f:$\"+str(frequency/1e3)+\"kHz\")\n",
    "    # broken_bar plotting works as follows       \n",
    "    # ax.broken_barh([x left down corner, length],(y left down corner, heigth))\n",
    "    \n",
    "    # [Back, Housing, Front]\n",
    "    \n",
    "    y_axisymmetry = -w_PZT/2\n",
    "    PTFE_x_coordinates = [(-l_back, l_back),(0, l_PZT),(l_PZT, l_front),(l_PZT+l_front, l_front)]\n",
    "    ax.broken_barh(PTFE_x_coordinates, (-w_PTFE/2, w_PTFE), facecolors='grey')\n",
    "    \n",
    "    #The PZT actuaor\n",
    "    ax.broken_barh([(0, l_PZT)], (-w_PZT/2, w_PZT), facecolors='orange')\n",
    "    \n",
    "    \n",
    "    # Steel chucks part [Back, Front]\n",
    "    steel_x_coordinates = [(-(l_back+l_steel),l_steel),(l_PZT+l_front*2,l_steel)]\n",
    "    ax.broken_barh(steel_x_coordinates, (-w_steel/2, w_steel), facecolors='white')\n",
    "    \n",
    "    #  Reaction tube\n",
    "    w_reactube = w_PZT\n",
    "    l_reactube =  0.6 *1e-3 # [m]\n",
    "    reactube_x_coordinates = [((l_PZT+l_front-l_reactube/2), l_reactube)]\n",
    "    ax.broken_barh(reactube_x_coordinates, (-w_reactube/2, w_reactube), facecolors='blue')\n",
    "    \n",
    "    l2 = plt.legend()\n",
    "    \n",
    "    k_graph_PTFE = 2*np.pi*frequency/v_sound_PTFE\n",
    "    k_graph_PZT = 2*np.pi*frequency/v_sound_PZT\n",
    "    \n",
    "    x_back = np.linspace(-l_back-l_PZT, 0)\n",
    "    wave_lenght_back = (l_back+l_PZT)*4\n",
    "    y_back = 0.01* np.sin((2*np.pi)/wave_lenght_back*(x_back))\n",
    "    \n",
    "    x_front = np.linspace(l_PZT,l_PZT+l_front*2)\n",
    "    y_front = 0.01* np.sin(k_graph_PTFE*(x_front-l_PZT))\n",
    "\n",
    "    ax.plot(x_back+l_PZT,y_back,'-k',linewidth=3, label=\"Displacement: $u$\")\n",
    "    ax.plot(x_front,y_front,'-k',linewidth=3)\n",
    "    \n",
    "\n",
    "    ax.plot(x_back+l_PZT,-y_back,'--k',linewidth=3, label=\"standing wave\")\n",
    "    ax.plot(x_front,-y_front,'--k',linewidth=3)\n",
    "    ax.legend()\n",
    "    \n",
    "    ax.set_xlabel('x / m')\n",
    "    ax.set_ylabel('axis of symmetry')\n",
    "    ax.set_yticks([0])\n",
    "    ax.set_yticklabels([0])\n",
    "    ax.grid(True)\n",
    "    \n",
    "    \n",
    "    bars_PTFE = plt.Rectangle((0, 0), 1, 1, fc=\"grey\")\n",
    "    bars_PZT = plt.Rectangle((0, 0), 1, 1, fc=\"orange\")\n",
    "    bars_water = plt.Rectangle((0, 0), 1, 1, fc=\"blue\")\n",
    "    bars_ss = plt.Rectangle((0, 0), 1, 1, fc=\"white\")"
   ]
  },
  {
   "cell_type": "code",
   "execution_count": 4,
   "metadata": {
    "collapsed": false
   },
   "outputs": [
    {
     "data": {
      "image/png": "[encoded data removed]",
      "text/plain": [
       "<matplotlib.figure.Figure at 0x7fb652e6c198>"
      ]
     },
     "metadata": {},
     "output_type": "display_data"
    }
   ],
   "source": [
    "# Call the interactive slider\n",
    "# working frequency between 30 and 70 kHz\n",
    "interact(plot_response, freq=(30,70))"
   ]
  },
  {
   "cell_type": "markdown",
   "metadata": {},
   "source": [
    "Proper sizing is needed as a function of the driving frequency. The black and dashed lines represent a (standing) planar acoustic wave. Transducer is colored in orange and microchanel in blue. Stainless steel and PTFE are colored in white and grey, respectively."
   ]
  },
  {
   "cell_type": "markdown",
   "metadata": {},
   "source": [
    "Output example for the HTML static version:"
   ]
  },
  {
   "cell_type": "markdown",
   "metadata": {},
   "source": [
    "<p style=\"text-align:center\">\n",
    "\n",
    "<img src=\"https://raw.githubusercontent.com/franktoffel/sono-microreactors/master/animations/langevins-interative-python.gif\" alt=\"Interactive Langevin\">\n",
    "\n",
    "</p>\n"
   ]
  }
 ],
 "metadata": {
  "kernelspec": {
   "display_name": "Python 3",
   "language": "python",
   "name": "python3"
  },
  "language_info": {
   "codemirror_mode": {
    "name": "ipython",
    "version": 3
   },
   "file_extension": ".py",
   "mimetype": "text/x-python",
   "name": "python",
   "nbconvert_exporter": "python",
   "pygments_lexer": "ipython3",
   "version": "3.4.4"
  }
 },
 "nbformat": 4,
 "nbformat_minor": 0
}
